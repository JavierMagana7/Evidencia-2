{
  "nbformat": 4,
  "nbformat_minor": 0,
  "metadata": {
    "colab": {
      "provenance": []
    },
    "kernelspec": {
      "name": "python3",
      "display_name": "Python 3"
    },
    "language_info": {
      "name": "python"
    }
  },
  "cells": [
    {
      "cell_type": "code",
      "execution_count": 1,
      "metadata": {
        "id": "7BHnXAjATM64",
        "outputId": "35776f2a-c59e-4990-e784-c8635eee860a",
        "colab": {
          "base_uri": "https://localhost:8080/"
        }
      },
      "outputs": [
        {
          "output_type": "stream",
          "name": "stdout",
          "text": [
            "Hola, mi nombre es Juan y tengo 25 años.\n",
            "Juan nació aproximadamente en el año 1998.\n"
          ]
        }
      ],
      "source": [
        "# Importar la biblioteca necesaria para la demostración\n",
        "import datetime\n",
        "\n",
        "# Definir la clase Persona\n",
        "class Persona:\n",
        "    def __init__(self, nombre, edad):\n",
        "        self.nombre = nombre\n",
        "        self.edad = edad\n",
        "\n",
        "    @property\n",
        "    def obtener_nombre(self):\n",
        "        return self.nombre\n",
        "\n",
        "    @property\n",
        "    def obtener_edad(self):\n",
        "        return self.edad\n",
        "\n",
        "    @staticmethod\n",
        "    def calcular_anio_nacimiento(edad_actual):\n",
        "        año_actual = datetime.datetime.now().year\n",
        "        return año_actual - edad_actual\n",
        "\n",
        "    def saludar(self):\n",
        "        print(f\"Hola, mi nombre es {self.nombre} y tengo {self.edad} años.\")\n",
        "\n",
        "# Crear una instancia de la clase Persona\n",
        "persona1 = Persona(nombre=\"Juan\", edad=25)\n",
        "\n",
        "# Acceder a los atributos y propiedades\n",
        "nombre_persona = persona1.obtener_nombre\n",
        "edad_persona = persona1.obtener_edad\n",
        "\n",
        "# Llamar al método saludar\n",
        "persona1.saludar()\n",
        "\n",
        "# Calcular el año de nacimiento utilizando el método estático\n",
        "anio_nacimiento = Persona.calcular_anio_nacimiento(edad_persona)\n",
        "\n",
        "# Mostrar información\n",
        "print(f\"{nombre_persona} nació aproximadamente en el año {anio_nacimiento}.\")\n"
      ]
    }
  ]
}